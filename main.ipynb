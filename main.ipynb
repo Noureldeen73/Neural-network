{
 "cells": [
  {
   "cell_type": "code",
   "id": "initial_id",
   "metadata": {
    "collapsed": true,
    "ExecuteTime": {
     "end_time": "2024-11-28T21:34:51.563324Z",
     "start_time": "2024-11-28T21:34:49.839986Z"
    }
   },
   "source": [
    "from MNISTDataset import MNISTDataset\n",
    "from NeuralNetwork import NeuralNet\n",
    "import torch.nn as nn\n",
    "import torch\n",
    "import matplotlib.pyplot as plt"
   ],
   "outputs": [],
   "execution_count": 1
  },
  {
   "metadata": {
    "ExecuteTime": {
     "end_time": "2024-11-28T22:05:05.107074Z",
     "start_time": "2024-11-28T22:05:04.898210Z"
    }
   },
   "cell_type": "code",
   "source": [
    "train_dataset = MNISTDataset('/home/noureldeen/Data/term 7/Intro to ML/Labs/ML_assignment2/archive/train-images.idx3-ubyte', '/home/noureldeen/Data/term 7/Intro to ML/Labs/ML_assignment2/archive/train-labels.idx1-ubyte')\n",
    "test_dataset = MNISTDataset('/home/noureldeen/Data/term 7/Intro to ML/Labs/ML_assignment2/archive/t10k-images.idx3-ubyte', '/home/noureldeen/Data/term 7/Intro to ML/Labs/ML_assignment2/archive/t10k-labels.idx1-ubyte')\n",
    "train_dataset, val_dataset = torch.utils.data.random_split(train_dataset, [50000, 10000])\n",
    "\n",
    "learning_rates = [0.0001, 0.001, 0.01, 0.1]\n",
    "batch_sizes = [32, 64, 128, 256]\n",
    "neurons = [[64, 32], [128, 64], [256, 128, 64], [512, 256, 128]]\n",
    "for \n",
    "num_epochs = 25 "
   ],
   "id": "178c60cddf73d92c",
   "outputs": [],
   "execution_count": 6
  },
  {
   "metadata": {
    "ExecuteTime": {
     "end_time": "2024-11-28T22:05:16.578069Z",
     "start_time": "2024-11-28T22:05:16.575386Z"
    }
   },
   "cell_type": "code",
   "source": "def train_model(train_dataset, val_dataset, learning_rate, batch_size, neurons):",
   "id": "653cd2ad57bcf3a4",
   "outputs": [
    {
     "ename": "SyntaxError",
     "evalue": "incomplete input (893316818.py, line 1)",
     "output_type": "error",
     "traceback": [
      "\u001B[0;36m  Cell \u001B[0;32mIn[7], line 1\u001B[0;36m\u001B[0m\n\u001B[0;31m    def train_model(train_dataset, val_dataset, learning_rate, batch_size, neurons):\u001B[0m\n\u001B[0m                                                                                    ^\u001B[0m\n\u001B[0;31mSyntaxError\u001B[0m\u001B[0;31m:\u001B[0m incomplete input\n"
     ]
    }
   ],
   "execution_count": 7
  },
  {
   "metadata": {},
   "cell_type": "code",
   "outputs": [],
   "execution_count": null,
   "source": "def validate_model(val_dataset, model):",
   "id": "1f1c7516f765981"
  }
 ],
 "metadata": {
  "kernelspec": {
   "display_name": "Python 3",
   "language": "python",
   "name": "python3"
  },
  "language_info": {
   "codemirror_mode": {
    "name": "ipython",
    "version": 2
   },
   "file_extension": ".py",
   "mimetype": "text/x-python",
   "name": "python",
   "nbconvert_exporter": "python",
   "pygments_lexer": "ipython2",
   "version": "2.7.6"
  }
 },
 "nbformat": 4,
 "nbformat_minor": 5
}
